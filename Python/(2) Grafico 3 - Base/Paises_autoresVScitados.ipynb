{
 "cells": [
  {
   "cell_type": "code",
   "execution_count": null,
   "metadata": {},
   "outputs": [],
   "source": [
    "#Importando os pacotes\n",
    "import pandas as pd\n",
    "\n",
    "#Importando a planilha que criamos a partir do código \"Merge_PyBibX\", junção dos arquivos .bib do Web of Science e Scopus\n",
    "df=pd.read_csv(\"data.csv\", sep=\",\")"
   ]
  },
  {
   "cell_type": "code",
   "execution_count": 31,
   "metadata": {},
   "outputs": [],
   "source": [
    "#Função para extrair os países das instituições listadas na coluna de \"affiliation\"\n",
    "def extrair_paises (x):\n",
    "    lista_paises=[]\n",
    "    if \",\" not in x:\n",
    "        resultado=\"\"\n",
    "        return resultado\n",
    "    lista_instituicoes=x.split(\";\")\n",
    "    for i in lista_instituicoes:\n",
    "        pais=i.split(\",\")[-1].strip()\n",
    "        lista_paises.append(pais)\n",
    "    resultado=\",\".join(set(lista_paises))\n",
    "    return resultado"
   ]
  },
  {
   "cell_type": "code",
   "execution_count": 32,
   "metadata": {},
   "outputs": [],
   "source": [
    "df[\"paises_autores\"]=df[\"affiliation\"].apply(extrair_paises)\n",
    "df[\"paises_autores\"].replace('MT USA','United States', inplace=True)\n",
    "#Deletar linhas referente aos artigos que não citam o país das instituições autoras (affiliations)\n",
    "df=df[df[\"paises_autores\"]!=\"\"]"
   ]
  },
  {
   "cell_type": "code",
   "execution_count": 33,
   "metadata": {},
   "outputs": [],
   "source": [
    "countries =      [\n",
    "                            'Afghanistan', 'Albania', 'Algeria', 'American Samoa', 'Andorra', 'Angola', 'Anguilla', \n",
    "                            'Antarctica', 'Antigua and Barbuda', 'Argentina', 'Armenia', 'Aruba', 'Australia', 'Austria', \n",
    "                            'Azerbaijan', 'Bahamas', 'Bahrain', 'Bangladesh', 'Barbados', 'Belarus', 'Belgium', 'Belize', \n",
    "                            'Benin', 'Bermuda', 'Bhutan', 'Bolivia', 'Bonaire, Sint Eustatius and Saba', \n",
    "                            'Bosnia and Herzegovina', 'Botswana', 'Bouvet Island', 'Brazil', 'British Indian Ocean Territory', \n",
    "                            'Brunei Darussalam', 'Bulgaria', 'Burkina Faso', 'Burundi', 'Cabo Verde', 'Cambodia', 'Cameroon', \n",
    "                            'Canada', 'Cayman Islands', 'Central African Republic', 'Chad', 'Chile', 'China', \n",
    "                            'Christmas Island', 'Cocos Islands', 'Colombia', 'Comoros', 'Democratic Republic of the Congo', \n",
    "                            'Congo', 'Cook Islands', 'Costa Rica', 'Croatia', 'Cuba', 'Curacao', 'Cyprus', 'Czechia', \n",
    "                            \"Côte d'Ivoire\", 'Denmark', 'Djibouti', 'Dominica', 'Dominican Republic', 'Ecuador', 'Egypt', \n",
    "                            'El Salvador', 'Equatorial Guinea', 'Eritrea', 'Estonia', 'Eswatini', 'Ethiopia', \n",
    "                            'Falkland Islands', 'Faroe Islands', 'Fiji', 'Finland', 'France', 'French Guiana', \n",
    "                            'French Polynesia', 'French Southern Territories', 'Gabon', 'Gambia', 'Georgia', 'Germany', \n",
    "                            'Ghana', 'Gibraltar', 'Greece', 'Greenland', 'Grenada', 'Guadeloupe', 'Guam', 'Guatemala', \n",
    "                            'Guernsey', 'Guinea', 'Guinea-Bissau', 'Guyana', 'Haiti', 'Heard Island and McDonald Islands', \n",
    "                            'Holy See', 'Honduras', 'Hong Kong', 'Hungary', 'Iceland', 'India', 'Indonesia', 'Iran', 'Iraq', \n",
    "                            'Ireland', 'Isle of Man', 'Israel', 'Italy', 'Jamaica', 'Japan', 'Jersey', 'Jordan', 'Kazakhstan', \n",
    "                            'Kenya', 'Kiribati', 'North Korea', 'South Korea', 'Kuwait', 'Kyrgyzstan', \n",
    "                            \"Lao People's Democratic Republic\", 'Latvia', 'Lebanon', 'Lesotho', 'Liberia', 'Libya', \n",
    "                            'Liechtenstein', 'Lithuania', 'Luxembourg', 'Macao', 'Madagascar', 'Malawi', 'Malaysia', \n",
    "                            'Maldives', 'Mali', 'Malta', 'Marshall Islands', 'Martinique', 'Mauritania', 'Mauritius', \n",
    "                            'Mayotte', 'Mexico', 'Micronesia', 'Moldova', 'Monaco', 'Mongolia', 'Montenegro', 'Montserrat', \n",
    "                            'Morocco', 'Mozambique', 'Myanmar', 'Namibia', 'Nauru', 'Nepal', 'Netherlands', 'New Caledonia', \n",
    "                            'New Zealand', 'Nicaragua', 'Niger', 'Nigeria', 'Niue', 'Norfolk Island', \n",
    "                            'Northern Mariana Islands', 'Norway', 'Oman', 'Pakistan', 'Palau', 'Palestine', 'Panama', \n",
    "                            'Papua New Guinea', 'Paraguay', 'Peru', 'Philippines', 'Pitcairn', 'Poland', 'Portugal', \n",
    "                            'Puerto Rico', 'Qatar', 'Republic of North Macedonia', 'Romania', 'Russian Federation', 'Rwanda', \n",
    "                            'Réunion', 'Saint Barthelemy', 'Saint Helena, Ascension and Tristan da Cunha', \n",
    "                            'Saint Kitts and Nevis', 'Saint Lucia', 'Saint Martin', 'Saint Pierre and Miquelon', \n",
    "                            'Saint Vincent and the Grenadines', 'Samoa', 'San Marino', 'Sao Tome and Principe', 'Saudi Arabia', \n",
    "                            'Senegal', 'Serbia', 'Seychelles', 'Sierra Leone', 'Singapore', 'Sint Maarten', 'Slovakia', \n",
    "                            'Slovenia', 'Solomon Islands', 'Somalia', 'South Africa', \n",
    "                            'South Georgia and the South Sandwich Islands', 'South Sudan', 'Spain', 'Sri Lanka', 'Sudan', \n",
    "                            'Suriname', 'Svalbard and Jan Mayen', 'Sweden', 'Switzerland', 'Syrian Arab Republic', 'Taiwan', \n",
    "                            'Tajikistan', 'Tanzania', 'Thailand', 'Timor-Leste', 'Togo', 'Tokelau', 'Tonga', \n",
    "                            'Trinidad and Tobago', 'Tunisia', 'Turkey', 'Turkmenistan', 'Turks and Caicos Islands', 'Tuvalu', \n",
    "                            'Uganda', 'Ukraine', 'United Arab Emirates', 'United Kingdom', \n",
    "                            'United States Minor Outlying Islands', 'United States of America', 'Uruguay', 'Uzbekistan', \n",
    "                            'Vanuatu', 'Venezuela', 'Viet Nam', 'Virgin Islands (British)', 'Virgin Islands (U.S.)', \n",
    "                            'Wallis and Futuna', 'Western Sahara', 'Yemen', 'Zambia', 'Zimbabwe', 'Aland Islands'\n",
    "                            ] "
   ]
  },
  {
   "cell_type": "code",
   "execution_count": 34,
   "metadata": {},
   "outputs": [],
   "source": [
    "#Função para extrair qualquer país que esteja citado nas colunas \"title\", \"author_keywords\" ou \"keywords\"\n",
    "def paises_citados (pc):\n",
    "    paises_citados=[]\n",
    "    for c in countries:\n",
    "        if c.lower() in pc['title'].lower():\n",
    "            paises_citados.append(c)\n",
    "        if c.lower() in pc['author_keywords'].lower():\n",
    "            paises_citados.append(c)\n",
    "        if c.lower() in pc['keywords'].lower():\n",
    "            paises_citados.append(c)\n",
    "    resultado=\",\".join(set(paises_citados))\n",
    "    return resultado"
   ]
  },
  {
   "cell_type": "code",
   "execution_count": 35,
   "metadata": {},
   "outputs": [],
   "source": [
    "df[\"paises_citados\"]=df[['title','author_keywords','keywords']].apply(paises_citados,axis=1)\n",
    "#Deletar linhas referente aos artigos que não citam nenhum país específico no título, nas palavras-chave do autor ou nas palavras-chave.\n",
    "df=df[df[\"paises_citados\"]!=\"\"]"
   ]
  },
  {
   "cell_type": "code",
   "execution_count": 36,
   "metadata": {},
   "outputs": [],
   "source": [
    "#Função para ver se pelo menos um dos países citados está dentre os países autores\n",
    "def esta_ou_nao(x):\n",
    "    lista=x[\"paises_citados\"].split(\",\")\n",
    "    for y in lista:\n",
    "        if y in x[\"paises_autores\"]:\n",
    "            return \"Sim\"\n",
    "    return \"Não\""
   ]
  },
  {
   "cell_type": "code",
   "execution_count": 37,
   "metadata": {},
   "outputs": [],
   "source": [
    "df[\"EstáouNão\"]=df[[\"paises_autores\",\"paises_citados\"]].apply(esta_ou_nao,axis=1)\n",
    "df=df[['title', \"affiliation\", 'author_keywords','keywords', \"paises_autores\",\"paises_citados\",\"EstáouNão\"]]"
   ]
  },
  {
   "cell_type": "code",
   "execution_count": 38,
   "metadata": {},
   "outputs": [],
   "source": [
    "#Importando a planilha com a classificação dos países por renda pelo World Bank (2022). Ver: https://datahelpdesk.worldbank.org/knowledgebase/articles/378834-how-does-the-world-bank-classify-countries\n",
    "world_bank=pd.read_excel(\"World Bank Classification.xlsx\")\n",
    "\n",
    "#Filtrando a linhas relevantes, de modo a excluir as linhas em que o World Bank define as siglas aplicadas para cada região mundial\n",
    "world_bank=world_bank.iloc[0:219]"
   ]
  },
  {
   "cell_type": "code",
   "execution_count": 39,
   "metadata": {},
   "outputs": [],
   "source": [
    "#Função para definir a classificação segundo o World Bank dos países autores\n",
    "def wb_classificacao_paises_autores (x):\n",
    "    vazio=[]\n",
    "    for y in world_bank[\"Economy\"].to_list():\n",
    "        if y.lower() in x.lower():\n",
    "            vazio.append(world_bank[world_bank[\"Economy\"]==y][\"Income group\"].iloc[0])\n",
    "    resul=\",\".join(vazio)\n",
    "    return resul\n",
    "\n",
    "#Função para definir a classificação segundo o World Bank dos países citados\n",
    "def wb_classificacao_paises_citados (x):\n",
    "    vazio=[]\n",
    "    for y in world_bank[\"Economy\"].to_list():\n",
    "        if y.lower() in x.lower():\n",
    "            vazio.append(world_bank[world_bank[\"Economy\"]==y][\"Income group\"].iloc[0])\n",
    "    resul=\",\".join(vazio)\n",
    "    return resul"
   ]
  },
  {
   "cell_type": "code",
   "execution_count": 40,
   "metadata": {},
   "outputs": [],
   "source": [
    "df[\"wb_paises_autores\"]=df[\"paises_autores\"].apply(wb_classificacao_paises_autores)\n",
    "df[\"wb_paises_citados\"]=df[\"paises_citados\"].apply(wb_classificacao_paises_citados)"
   ]
  },
  {
   "cell_type": "code",
   "execution_count": 41,
   "metadata": {},
   "outputs": [],
   "source": [
    "df.to_excel(\"Paises_autoresVScitados.xlsx\",index=False)"
   ]
  }
 ],
 "metadata": {
  "kernelspec": {
   "display_name": "Python 3",
   "language": "python",
   "name": "python3"
  },
  "language_info": {
   "codemirror_mode": {
    "name": "ipython",
    "version": 3
   },
   "file_extension": ".py",
   "mimetype": "text/x-python",
   "name": "python",
   "nbconvert_exporter": "python",
   "pygments_lexer": "ipython3",
   "version": "3.10.10"
  }
 },
 "nbformat": 4,
 "nbformat_minor": 2
}
